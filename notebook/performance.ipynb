{
 "cells": [
  {
   "cell_type": "code",
   "execution_count": 1,
   "metadata": {},
   "outputs": [],
   "source": [
    "%load_ext autoreload\n",
    "%autoreload 2\n",
    "%matplotlib inline"
   ]
  },
  {
   "cell_type": "code",
   "execution_count": 2,
   "metadata": {},
   "outputs": [],
   "source": [
    "import pandas as pd\n",
    "import numpy as np\n",
    "from sklearn.cluster import KMeans\n",
    "from datetime import datetime\n",
    "from scipy.stats import ks_2samp\n",
    "from itertools import combinations\n",
    "\n",
    "import matplotlib.pyplot as plt\n",
    "import matplotlib as mpl"
   ]
  },
  {
   "cell_type": "code",
   "execution_count": 3,
   "metadata": {},
   "outputs": [],
   "source": [
    "df_records = pd.read_csv('../data/Public_records.csv')\n",
    "df_perform = pd.read_csv('../data/Loan_performance.csv')\n",
    "df_data_records = pd.read_excel('../data/Data_dictionary.xlsx')"
   ]
  },
  {
   "cell_type": "code",
   "execution_count": 4,
   "metadata": {
    "scrolled": true
   },
   "outputs": [
    {
     "data": {
      "text/plain": [
       "analytics_matchkey    1346779\n",
       "max_loan_amount          1006\n",
       "late_30_days                1\n",
       "late_60_days                1\n",
       "late_90_days                1\n",
       "Name: 34, dtype: int64"
      ]
     },
     "execution_count": 4,
     "metadata": {},
     "output_type": "execute_result"
    }
   ],
   "source": [
    "df_perform[df_perform.late_90_days != 0].iloc[0]"
   ]
  },
  {
   "cell_type": "code",
   "execution_count": 11,
   "metadata": {},
   "outputs": [],
   "source": [
    "#assign categories to each late case\n",
    "# late_30_days, 'late_60_days', 'late_90_days'\n",
    "# (0,0,0) - 0\n",
    "# (1,0,0) - 1\n",
    "# (1,1,0) - 2\n",
    "# (1,1,1) - 3\n",
    "df_perform['category'] = pd.Categorical(df_perform['late_30_days'].astype(str) + '_' \n",
    "               + df_perform['late_60_days'].astype(str) + '_'\n",
    "               + df_perform['late_90_days'].astype(str)).codes\n",
    "\n",
    "df_perform['not_late'] = df_perform.category.apply(lambda x: 1 if x == 0 else 0)"
   ]
  },
  {
   "cell_type": "code",
   "execution_count": 12,
   "metadata": {},
   "outputs": [
    {
     "data": {
      "text/plain": [
       "category\n",
       "0    AxesSubplot(0.125,0.125;0.775x0.755)\n",
       "1    AxesSubplot(0.125,0.125;0.775x0.755)\n",
       "2    AxesSubplot(0.125,0.125;0.775x0.755)\n",
       "3    AxesSubplot(0.125,0.125;0.775x0.755)\n",
       "Name: max_loan_amount, dtype: object"
      ]
     },
     "execution_count": 12,
     "metadata": {},
     "output_type": "execute_result"
    },
    {
     "data": {
      "image/png": "[encoded data removed]",
      "text/plain": [
       "<Figure size 720x432 with 1 Axes>"
      ]
     },
     "metadata": {
      "needs_background": "light"
     },
     "output_type": "display_data"
    }
   ],
   "source": [
    "# see if there is difference in terms of max loan capacity between groups of late payers\n",
    "fig, ax = plt.subplots(figsize=(10,6))\n",
    "bins = np.arange(1000, 4000, 100)\n",
    "df_perform.max_loan_amount.hist(bins=bins, ax=ax, color='grey', zorder=0, density=True, alpha=0.8)\n",
    "\n",
    "df_late_group = df_perform.groupby('category')\n",
    "df_late_group['max_loan_amount'].plot(kind='hist', alpha=0.3, density=True, legend=True, bins=bins, ax=ax)\n",
    "\n",
    "# seems like all of these groups completely overlap with the overall distribution of max loan amount"
   ]
  },
  {
   "cell_type": "code",
   "execution_count": 13,
   "metadata": {},
   "outputs": [],
   "source": [
    "group_dict = {}\n",
    "for i, group in df_late_group:\n",
    "    group_dict[i] = group.max_loan_amount.tolist()"
   ]
  },
  {
   "cell_type": "code",
   "execution_count": 14,
   "metadata": {},
   "outputs": [
    {
     "name": "stdout",
     "output_type": "stream",
     "text": [
      "0 1\n",
      "Good vs 30\n",
      "p value: 0.0000\n",
      "-------------------\n",
      "0 2\n",
      "Good vs 60\n",
      "p value: 0.0186\n",
      "-------------------\n",
      "0 3\n",
      "Good vs 90\n",
      "p value: 0.0000\n",
      "-------------------\n",
      "1 2\n",
      "30 vs 60\n",
      "p value: 0.0067\n",
      "-------------------\n",
      "1 3\n",
      "30 vs 90\n",
      "p value: 0.0000\n",
      "-------------------\n",
      "2 3\n",
      "60 vs 90\n",
      "p value: 0.0000\n",
      "-------------------\n"
     ]
    }
   ],
   "source": [
    "key_name_dict = {0:'Good', 1:'30', 2:'60', 3:'90'}\n",
    "\n",
    "for i, j in list(combinations(group_dict.keys(), 2)):\n",
    "    print(i, j)\n",
    "    print(key_name_dict[i], 'vs', key_name_dict[j])\n",
    "    D, p = ks_2samp(group_dict[i], group_dict[j])\n",
    "    print('p value: {:.4f}'.format(p))\n",
    "    print('-------------------')\n",
    "    \n",
    "# --> p value using ks 2 sample test comparing maximum loan amount between all groups of late payments indicates that\n",
    "# there is significant difference between the loan amounts of the different groups"
   ]
  },
  {
   "cell_type": "markdown",
   "metadata": {},
   "source": [
    "# Let's combine the public data with the performance data!"
   ]
  },
  {
   "cell_type": "code",
   "execution_count": 15,
   "metadata": {},
   "outputs": [],
   "source": [
    "df_records = df_records.drop(axis=1, columns=['plaintiff_name', 'attorney_name', 'docket_number'])"
   ]
  },
  {
   "cell_type": "code",
   "execution_count": 16,
   "metadata": {},
   "outputs": [],
   "source": [
    "# Convert the date integers/string to datetime\n",
    "def convert_to_date(x):\n",
    "    try:\n",
    "        return datetime.strptime(str(int(x)), '%Y%m%d')\n",
    "    except ValueError:\n",
    "        return np.nan\n",
    "    \n",
    "df_records['effective_date_date_verified'] = df_records['effective_date_date_verified'].apply(lambda x: convert_to_date(x))\n",
    "df_records['filed_date'] = df_records['filed_date'].apply(lambda x: convert_to_date(x))\n",
    "df_records['paid_date'] = df_records['paid_date'].apply(lambda x: convert_to_date(x))\n"
   ]
  },
  {
   "cell_type": "code",
   "execution_count": 17,
   "metadata": {},
   "outputs": [
    {
     "data": {
      "text/plain": [
       "(285, 0, 88882)"
      ]
     },
     "execution_count": 17,
     "metadata": {},
     "output_type": "execute_result"
    }
   ],
   "source": [
    "# nan values for each date columns\n",
    "df_records.effective_date_date_verified.isna().sum(), df_records.filed_date.isna().sum(), df_records.paid_date.isna().sum()"
   ]
  },
  {
   "cell_type": "code",
   "execution_count": 18,
   "metadata": {},
   "outputs": [],
   "source": [
    "#find the days between each dates ->\n",
    "df_records['filed_to_paid'] = df_records['paid_date'] - df_records['filed_date']\n",
    "df_records['paid_to_verified'] = df_records['effective_date_date_verified'] - df_records['paid_date']\n",
    "df_records['filed_to_verified'] =  df_records['effective_date_date_verified'] - df_records['filed_date']"
   ]
  },
  {
   "cell_type": "code",
   "execution_count": 19,
   "metadata": {},
   "outputs": [],
   "source": [
    "df = pd.merge(df_records, df_perform, left_on='analytics_matchkey', right_on='analytics_matchkey')"
   ]
  },
  {
   "cell_type": "markdown",
   "metadata": {},
   "source": [
    "### See if the actual amount of loan is more significantly different between each group of late payers"
   ]
  },
  {
   "cell_type": "code",
   "execution_count": 20,
   "metadata": {},
   "outputs": [
    {
     "data": {
      "image/png": "[encoded data removed]",
      "text/plain": [
       "<Figure size 720x432 with 1 Axes>"
      ]
     },
     "metadata": {
      "needs_background": "light"
     },
     "output_type": "display_data"
    }
   ],
   "source": [
    "fig, ax = plt.subplots(figsize=(10,6))\n",
    "bins = np.arange(0, 10000, 100)\n",
    "# df.amount.hist(ax=ax, color='grey', zorder=0, density=True, alpha=0.1, bins=bins)\n",
    "\n",
    "df_late_group = df.groupby('category')\n",
    "df_late_group['amount'].plot(kind='hist', alpha=0.3, density=True, legend=True, ax=ax, bins=bins)\n",
    "\n",
    "ax.set_yscale('log')\n",
    "# ax.set_xscale('log')"
   ]
  },
  {
   "cell_type": "markdown",
   "metadata": {},
   "source": [
    "# Using random forest classifier \n",
    "Use the performance data and public records data as variables and actual loan payment category as result"
   ]
  },
  {
   "cell_type": "code",
   "execution_count": 8,
   "metadata": {},
   "outputs": [],
   "source": [
    "from sklearn.model_selection import KFold, ShuffleSplit\n",
    "from sklearn.model_selection import train_test_split\n",
    "\n",
    "from sklearn.ensemble import RandomForestClassifier  #GBM algorithm\n",
    "from sklearn.model_selection import cross_validate, GridSearchCV, cross_val_score   #Additional scklearn functions\n",
    "from sklearn.metrics import roc_curve, auc\n",
    "from sklearn import metrics\n"
   ]
  },
  {
   "cell_type": "code",
   "execution_count": 9,
   "metadata": {},
   "outputs": [
    {
     "data": {
      "text/plain": [
       "Index(['analytics_matchkey', 'industry_code_kind_of_business',\n",
       "       'reporting_subscriber_code', 'public_record_type_code',\n",
       "       'effective_date_date_verified', 'filed_date', 'paid_date', 'amount',\n",
       "       'public_record_source_type_code', 'equal_credit_opportunity_act_code',\n",
       "       'legislative_prohibited_code', 'plaintiff_name', 'attorney_name',\n",
       "       'docket_number', 'max_loan_amount', 'late_30_days', 'late_60_days',\n",
       "       'late_90_days', 'category'],\n",
       "      dtype='object')"
      ]
     },
     "execution_count": 9,
     "metadata": {},
     "output_type": "execute_result"
    }
   ],
   "source": [
    "df.columns"
   ]
  },
  {
   "cell_type": "code",
   "execution_count": 21,
   "metadata": {},
   "outputs": [
    {
     "name": "stdout",
     "output_type": "stream",
     "text": [
      "Index(['filed_to_paid', 'paid_to_verified', 'filed_to_verified', 'amount',\n",
      "       'public_record_source_type_code'],\n",
      "      dtype='object')\n"
     ]
    }
   ],
   "source": [
    "#features\n",
    "features = ['industry_code_kind_of_business', 'reporting_subscriber_code', 'public_record_type_code', \n",
    "            'filed_to_paid', 'paid_to_verified', 'filed_to_verified',\n",
    "            'amount','max_loan_amount',\n",
    "            'public_record_source_type_code', 'equal_credit_opportunity_act_code', 'legislative_prohibited_code',\n",
    "            ]\n",
    "#value we are trying to predict\n",
    "predict = ['not_late', 'late_30_days', 'late_60_days', 'late_90_days']\n",
    "\n",
    "#check if any of the columns in features contain nan values\n",
    "series_nan = df[features].isna().sum()\n",
    "print(series_nan[series_nan!=0].index)\n",
    "# df.head()"
   ]
  },
  {
   "cell_type": "code",
   "execution_count": 22,
   "metadata": {},
   "outputs": [],
   "source": [
    "#fill in missing values with the median (for numerical values) or mode (for categorical values)\n",
    "for c in ['filed_to_paid', 'paid_to_verified', 'filed_to_verified', 'amount']:\n",
    "    df[c].fillna(df[c].median(), inplace=True)\n",
    "for c in ['public_record_source_type_code']:\n",
    "    df[c].fillna(df[c].mode()[0], inplace=True)"
   ]
  },
  {
   "cell_type": "code",
   "execution_count": 23,
   "metadata": {},
   "outputs": [
    {
     "name": "stdout",
     "output_type": "stream",
     "text": [
      "Index([], dtype='object')\n"
     ]
    }
   ],
   "source": [
    "#check if any of the columns in features contain nan values\n",
    "series_nan = df[features].isna().sum()\n",
    "print(series_nan[series_nan!=0].index)"
   ]
  },
  {
   "cell_type": "code",
   "execution_count": 24,
   "metadata": {},
   "outputs": [],
   "source": [
    "from sklearn import preprocessing\n",
    "string_columns = ['industry_code_kind_of_business', 'reporting_subscriber_code', 'public_record_type_code',\n",
    "                 'public_record_source_type_code', 'equal_credit_opportunity_act_code']\n",
    "\n",
    "label_dictionary = {}\n",
    "for c in string_columns:\n",
    "    le = preprocessing.LabelEncoder()\n",
    "    le.fit(df[c].unique())\n",
    "    df[c] = le.transform(df[c])\n",
    "#     labels = dict(zip(list(le.classes_), le.transform(le.classes_)))\n",
    "    label_dictionary[c] = le"
   ]
  },
  {
   "cell_type": "code",
   "execution_count": 25,
   "metadata": {},
   "outputs": [
    {
     "name": "stdout",
     "output_type": "stream",
     "text": [
      "filed_to_paid\n",
      "paid_to_verified\n",
      "filed_to_verified\n"
     ]
    }
   ],
   "source": [
    "# Timedelta to int\n",
    "for c in ['filed_to_paid','paid_to_verified','filed_to_verified']:\n",
    "    print(c)\n",
    "    df[c] = df[c].apply(lambda td: int(td / np.timedelta64(1, 'D')))"
   ]
  },
  {
   "cell_type": "code",
   "execution_count": 26,
   "metadata": {},
   "outputs": [],
   "source": [
    "# shuffle df\n",
    "df = df.sample(frac=1)\n",
    "X = df[features]\n",
    "y = df[predict]"
   ]
  },
  {
   "cell_type": "code",
   "execution_count": null,
   "metadata": {},
   "outputs": [],
   "source": [
    "# parameter test for Random Forest\n",
    "# took too long to run\n",
    "# the best params and best score from gsearch will tell us the best features for predicting late payers for RF\n",
    "# we can also try other categorical classifiers such as SVM and GradientBoosting (with GB, we have to be very careful about overfitting)\n",
    "param_test_boost = {# boosting specific paramters\n",
    "          'max_depth':range(2,8,1), 'min_samples_split':[2, 100, 1000, 10000], \n",
    "          'min_samples_leaf':[1, 100, 1000], 'max_features':[1,5,11]}\n",
    "gsearch = GridSearchCV(estimator = RandomForestClassifier(n_estimators=1000, random_state=2),\n",
    "                            param_grid = param_test_boost, scoring='roc_auc', n_jobs=2, iid=False, cv=5)\n",
    "\n",
    "gsearch.fit(X, y)"
   ]
  },
  {
   "cell_type": "code",
   "execution_count": null,
   "metadata": {},
   "outputs": [],
   "source": [
    "gsearch.best_params_, gsearch.best_score_"
   ]
  },
  {
   "cell_type": "code",
   "execution_count": 27,
   "metadata": {},
   "outputs": [],
   "source": [
    "# let's try an example\n",
    "md = 4\n",
    "mss = 100\n",
    "msl= 10\n",
    "rf = RandomForestClassifier(n_estimators=1000, max_depth=md, min_samples_split=mss, min_samples_leaf=msl, random_state=2)"
   ]
  },
  {
   "cell_type": "code",
   "execution_count": 28,
   "metadata": {},
   "outputs": [
    {
     "data": {
      "text/plain": [
       "RandomForestClassifier(bootstrap=True, class_weight=None, criterion='gini',\n",
       "            max_depth=4, max_features='auto', max_leaf_nodes=None,\n",
       "            min_impurity_decrease=0.0, min_impurity_split=None,\n",
       "            min_samples_leaf=10, min_samples_split=100,\n",
       "            min_weight_fraction_leaf=0.0, n_estimators=1000, n_jobs=None,\n",
       "            oob_score=False, random_state=2, verbose=0, warm_start=False)"
      ]
     },
     "execution_count": 28,
     "metadata": {},
     "output_type": "execute_result"
    }
   ],
   "source": [
    "X_train, X_test, y_train, y_test = train_test_split(X, y, random_state=0, test_size=0.4)\n",
    "\n",
    "rf.fit(X_train, y_train)"
   ]
  },
  {
   "cell_type": "code",
   "execution_count": 29,
   "metadata": {},
   "outputs": [],
   "source": [
    "y_score = rf.predict_proba(X_test)\n",
    "# p_train = rf.predict_proba(X_train)"
   ]
  },
  {
   "cell_type": "code",
   "execution_count": 30,
   "metadata": {},
   "outputs": [],
   "source": [
    "y_score = np.array(y_score)"
   ]
  },
  {
   "cell_type": "code",
   "execution_count": 32,
   "metadata": {},
   "outputs": [],
   "source": [
    "n_classes = y.shape[1]"
   ]
  },
  {
   "cell_type": "code",
   "execution_count": 33,
   "metadata": {},
   "outputs": [
    {
     "data": {
      "text/plain": [
       "array([[0.14442919, 0.85557081],\n",
       "       [0.1253909 , 0.8746091 ],\n",
       "       [0.14457308, 0.85542692],\n",
       "       ...,\n",
       "       [0.15508549, 0.84491451],\n",
       "       [0.13000471, 0.86999529],\n",
       "       [0.17202442, 0.82797558]])"
      ]
     },
     "execution_count": 33,
     "metadata": {},
     "output_type": "execute_result"
    }
   ],
   "source": [
    "y_score[0]"
   ]
  },
  {
   "cell_type": "code",
   "execution_count": 34,
   "metadata": {},
   "outputs": [
    {
     "data": {
      "text/plain": [
       "(array([0.00000000e+00, 7.65052406e-05, 1.53010481e-04, ...,\n",
       "        9.99923495e-01, 1.00000000e+00, 1.00000000e+00]),\n",
       " array([0.        , 0.        , 0.        , ..., 0.99997306, 0.99998653,\n",
       "        1.        ]),\n",
       " array([1.2909435 , 0.2909435 , 0.28689481, ..., 0.11213917, 0.11212684,\n",
       "        0.11210682]))"
      ]
     },
     "execution_count": 34,
     "metadata": {},
     "output_type": "execute_result"
    }
   ],
   "source": [
    "i = 0\n",
    "roc_curve(y_test.values[:, i], y_score[i][:,0])"
   ]
  },
  {
   "cell_type": "code",
   "execution_count": 35,
   "metadata": {},
   "outputs": [],
   "source": [
    "fpr = dict()\n",
    "tpr = dict()\n",
    "roc_auc = dict()\n",
    "for i in range(n_classes):\n",
    "    fpr[i], tpr[i], _ = roc_curve(y_test.values[:, i], y_score[i][:, 1])\n",
    "    roc_auc[i] = auc(fpr[i], tpr[i])\n"
   ]
  },
  {
   "cell_type": "code",
   "execution_count": 37,
   "metadata": {},
   "outputs": [
    {
     "data": {
      "text/plain": [
       "<matplotlib.legend.Legend at 0x1a2a888ba8>"
      ]
     },
     "execution_count": 37,
     "metadata": {},
     "output_type": "execute_result"
    },
    {
     "data": {
      "image/png": "[encoded data removed]",
      "text/plain": [
       "<Figure size 432x288 with 1 Axes>"
      ]
     },
     "metadata": {
      "needs_background": "light"
     },
     "output_type": "display_data"
    }
   ],
   "source": [
    "from itertools import cycle\n",
    "colors = cycle(['#e41a1c', '#377eb8', '#4daf4a','#984ea3'])\n",
    "for i, color in zip(range(n_classes), colors):\n",
    "    plt.plot(fpr[i], tpr[i], color=color, lw=1.2,\n",
    "             label='ROC curve of class {0} (area = {1:0.2f})'\n",
    "             ''.format(i, roc_auc[i]))\n",
    "plt.xlabel('False Positive Rate')\n",
    "plt.ylabel('True Positive Rate')\n",
    "plt.title('Receiver operating characteristic example')\n",
    "plt.legend(loc=\"lower right\")"
   ]
  },
  {
   "cell_type": "markdown",
   "metadata": {},
   "source": [
    "### --> needs parameter optimization! "
   ]
  },
  {
   "cell_type": "code",
   "execution_count": null,
   "metadata": {},
   "outputs": [],
   "source": []
  }
 ],
 "metadata": {
  "kernelspec": {
   "display_name": "Python 3",
   "language": "python",
   "name": "python3"
  },
  "language_info": {
   "codemirror_mode": {
    "name": "ipython",
    "version": 3
   },
   "file_extension": ".py",
   "mimetype": "text/x-python",
   "name": "python",
   "nbconvert_exporter": "python",
   "pygments_lexer": "ipython3",
   "version": "3.7.3"
  }
 },
 "nbformat": 4,
 "nbformat_minor": 2
}
